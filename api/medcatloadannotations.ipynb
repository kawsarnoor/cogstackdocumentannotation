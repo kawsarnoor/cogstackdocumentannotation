{
 "cells": [
  {
   "cell_type": "code",
   "execution_count": 74,
   "metadata": {},
   "outputs": [],
   "source": [
    "import pandas as pd\n",
    "from app import db\n",
    "from app import User, Dataset, Document, Label, Project, projectlabel_association, Annotation\n",
    "from medcat.cdb import CDB\n",
    "from medcat.utils.vocab import Vocab\n",
    "from medcat.cat import CAT\n",
    "\n",
    "path = '/Users/kawsarnoor/Desktop/cogstack/models/medmen/'\n",
    "vocab = Vocab()\n",
    "vocab.load_dict(path + 'vocab.dat')\n",
    "\n",
    "cdb = CDB()\n",
    "cdb.load_dict(path + 'cdb.dat')"
   ]
  },
  {
   "cell_type": "code",
   "execution_count": null,
   "metadata": {},
   "outputs": [],
   "source": [
    "from elasticsearch import Elasticsearch \n",
    "es=Elasticsearch([{'host':'localhost','port':9200}])"
   ]
  },
  {
   "cell_type": "code",
   "execution_count": null,
   "metadata": {},
   "outputs": [],
   "source": [
    "cat = CAT(cdb=cdb, vocab=vocab)"
   ]
  },
  {
   "cell_type": "code",
   "execution_count": null,
   "metadata": {},
   "outputs": [],
   "source": [
    "dataset = Dataset.query.filter_by(id=3).all()[0]"
   ]
  },
  {
   "cell_type": "code",
   "execution_count": null,
   "metadata": {},
   "outputs": [],
   "source": [
    "text = Document.query.filter_by(dataset=dataset).all()[0].text"
   ]
  },
  {
   "cell_type": "code",
   "execution_count": null,
   "metadata": {},
   "outputs": [],
   "source": [
    "doc = cat.get_entities(text)"
   ]
  },
  {
   "cell_type": "code",
   "execution_count": null,
   "metadata": {},
   "outputs": [],
   "source": [
    "df = pd.DataFrame(doc)\n",
    "df"
   ]
  },
  {
   "cell_type": "code",
   "execution_count": null,
   "metadata": {},
   "outputs": [],
   "source": [
    "for cui in list(set(list(df['cui']))):\n",
    "    new_label = Label(label=cui, labelType='sentence')\n",
    "    db.session.add(new_label)\n",
    "    db.session.commit()"
   ]
  },
  {
   "cell_type": "code",
   "execution_count": null,
   "metadata": {
    "tags": []
   },
   "outputs": [],
   "source": [
    "for idx, row in df.iterrows():\n",
    "    label = Label.query.filter_by(label=row['cui']).all()[0]\n",
    "    new_annotation = Annotation(user_id=2, label=label, project_id=3, document_id=25, start_idx=row['start'], end_idx=row['end'], completed=False)\n",
    "    db.session.add(new_annotation)\n",
    "    db.session.commit()"
   ]
  },
  {
   "cell_type": "code",
   "execution_count": null,
   "metadata": {},
   "outputs": [],
   "source": [
    "delanns = Annotation.query.filter_by(project_id=3).all()\n",
    "for delann in delanns:\n",
    "    db.session.delete(delann)\n",
    "    db.session.commit()"
   ]
  },
  {
   "cell_type": "code",
   "execution_count": 73,
   "metadata": {},
   "outputs": [],
   "source": [
    "for idx, row in df.iterrows():\n",
    "    \n",
    "    entry={\"cui\": row['cui'], \n",
    "           \"tui\": row['tui'],\n",
    "          \"pretty_name\": row['pretty_name'],\n",
    "          \"type\": row['type']}\n",
    "\n",
    "\n",
    "    es.index(index='snomed_uk', doc_type='snomedterm', id=idx, body=entry)\n"
   ]
  },
  {
   "cell_type": "code",
   "execution_count": 80,
   "metadata": {},
   "outputs": [
    {
     "output_type": "execute_result",
     "data": {
      "text/plain": [
       "{'cui': 'C0678257',\n",
       " 'tui': 'T170',\n",
       " 'pretty_name': 'described',\n",
       " 'type': 'Intellectual Product'}"
      ]
     },
     "metadata": {},
     "execution_count": 80
    }
   ],
   "source": [
    "entry_string = 'C0678257'\n",
    "\n",
    "query = [{\"index\":'snomed_uk'},\n",
    "        {\"query\":{\"bool\":\n",
    "                    {\"must\":[{\"query_string\":\n",
    "                                {\"query\": entry_string + '*',\n",
    "                                \"analyze_wildcard\":True,\n",
    "                                \"default_field\":\"*\"}}],\n",
    "                    \"filter\":[],\n",
    "                    \"should\":[],\n",
    "                    \"must_not\":[]}}}]\n",
    "\n",
    "results = es.msearch(query)['responses'][0]\n",
    "results['hits']['hits'][0]['_source']"
   ]
  },
  {
   "cell_type": "code",
   "execution_count": null,
   "metadata": {},
   "outputs": [],
   "source": []
  }
 ],
 "metadata": {
  "kernelspec": {
   "display_name": "Python 3",
   "language": "python",
   "name": "python3"
  },
  "language_info": {
   "codemirror_mode": {
    "name": "ipython",
    "version": 3
   },
   "file_extension": ".py",
   "mimetype": "text/x-python",
   "name": "python",
   "nbconvert_exporter": "python",
   "pygments_lexer": "ipython3",
   "version": "3.7.6-final"
  }
 },
 "nbformat": 4,
 "nbformat_minor": 4
}