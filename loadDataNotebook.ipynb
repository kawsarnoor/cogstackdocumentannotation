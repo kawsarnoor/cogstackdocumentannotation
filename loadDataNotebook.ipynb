{
 "metadata": {
  "language_info": {
   "codemirror_mode": {
    "name": "ipython",
    "version": 3
   },
   "file_extension": ".py",
   "mimetype": "text/x-python",
   "name": "python",
   "nbconvert_exporter": "python",
   "pygments_lexer": "ipython3",
   "version": "3.7.6-final"
  },
  "orig_nbformat": 2,
  "kernelspec": {
   "name": "python3",
   "display_name": "Python 3",
   "language": "python"
  }
 },
 "nbformat": 4,
 "nbformat_minor": 2,
 "cells": [
  {
   "cell_type": "code",
   "execution_count": 1,
   "metadata": {},
   "outputs": [],
   "source": [
    "import pandas as pd\n",
    "from app import db\n",
    "from app import User, Dataset, Document, Label, Project, AnnotatedDocument, projectlabel_association"
   ]
  },
  {
   "cell_type": "code",
   "execution_count": 2,
   "metadata": {},
   "outputs": [],
   "source": [
    "## Load data in texts\n",
    "data_path = '~/Desktop/annotationTexts.csv'  # Expect a csv with columns id,text\n",
    "df = pd.read_csv(data_path)\n",
    "texts = list(df['text'])\n",
    "\n",
    "db.create_all()\n",
    "\n",
    "def createUsers():\n",
    "    # Create Users\n",
    "    admin = User(username='admin', password='admin', admin=True)\n",
    "    user1 = User(username='user1', password='user1')\n",
    "    user2 = User(username='user2', password = 'user2')\n",
    "    \n",
    "    db.session.add(admin)\n",
    "    db.session.add(user1)\n",
    "    db.session.add(user2)\n",
    "    db.session.commit()\n",
    "\n",
    "    return [user1, user2]\n",
    "\n",
    "def createDatasets():\n",
    "    # Create Dataset\n",
    "    dataset = Dataset(name='mnd_referral_letters')\n",
    "    db.session.add(dataset)\n",
    "\n",
    "    db.session.commit()\n",
    "\n",
    "    return dataset\n",
    "\n",
    "def createLabels():\n",
    "    # Create Labels\n",
    "    label_text = ['Referral']\n",
    "    label_description = ['']\n",
    "    label_type = ['sentence']\n",
    "    labels_added_mnd = []\n",
    "    for i, l in enumerate(label_text):\n",
    "        label = Label(label = l, labelDescription = label_description[i], labelType = label_type[i])\n",
    "        labels_added_mnd.append(label)\n",
    "        db.session.add(label)\n",
    "\n",
    "    db.session.commit()\n",
    "\n",
    "    return labels_added_mnd\n",
    "\n",
    "\n",
    "def createProjects(mnd_dataset, labels_added_mnd, user1, user2):\n",
    "\n",
    "    mnd_desc = 'annotating gp referral letters to identify patients that might need to be fast tracked to the MND clinic '\n",
    "    project = Project(name = 'mnd', nlptasktype = 'multiclass', dataset=mnd_dataset, description=mnd_desc, labels=labels_added_mnd, users=[user1,user2],)\n",
    "    db.session.add(project)\n",
    "\n",
    "    db.session.commit()\n",
    "\n",
    "    #   Associate Labels with Project\n",
    "    db.session.execute(projectlabel_association.insert().values([(project.id, labels_added_mnd[0].id), (project.id, labels_added_mnd[1].id)]))\n",
    "\n",
    "\n",
    "def createDocuments(mnd_dataset, texts):\n",
    "\n",
    "    # Create Documents\n",
    "    mnd_document_texts = texts\n",
    "    mnd_documents = []\n",
    "    for dt in mnd_document_texts:\n",
    "        document = Document(text=dt, dataset=mnd_dataset)\n",
    "        mnd_documents.append(document)\n",
    "        db.session.add(document)\n",
    "    \n",
    "    db.session.commit()\n"
   ]
  },
  {
   "cell_type": "code",
   "execution_count": 3,
   "metadata": {},
   "outputs": [
    {
     "output_type": "stream",
     "name": "stdout",
     "text": [
      "users done\ndatasets done\nlabels done\n"
     ]
    },
    {
     "output_type": "error",
     "ename": "IndexError",
     "evalue": "list index out of range",
     "traceback": [
      "\u001b[0;31m---------------------------------------------------------------------------\u001b[0m",
      "\u001b[0;31mIndexError\u001b[0m                                Traceback (most recent call last)",
      "\u001b[0;32m<ipython-input-3-578cdaa8cc1a>\u001b[0m in \u001b[0;36m<module>\u001b[0;34m\u001b[0m\n\u001b[1;32m      5\u001b[0m \u001b[0mlabels\u001b[0m \u001b[0;34m=\u001b[0m \u001b[0mcreateLabels\u001b[0m\u001b[0;34m(\u001b[0m\u001b[0;34m)\u001b[0m\u001b[0;34m\u001b[0m\u001b[0;34m\u001b[0m\u001b[0m\n\u001b[1;32m      6\u001b[0m \u001b[0mprint\u001b[0m\u001b[0;34m(\u001b[0m\u001b[0;34m'labels done'\u001b[0m\u001b[0;34m)\u001b[0m\u001b[0;34m\u001b[0m\u001b[0;34m\u001b[0m\u001b[0m\n\u001b[0;32m----> 7\u001b[0;31m \u001b[0mcreateProjects\u001b[0m\u001b[0;34m(\u001b[0m\u001b[0mdataset\u001b[0m\u001b[0;34m,\u001b[0m \u001b[0mlabels\u001b[0m\u001b[0;34m,\u001b[0m \u001b[0musers\u001b[0m\u001b[0;34m[\u001b[0m\u001b[0;36m0\u001b[0m\u001b[0;34m]\u001b[0m\u001b[0;34m,\u001b[0m \u001b[0musers\u001b[0m\u001b[0;34m[\u001b[0m\u001b[0;36m1\u001b[0m\u001b[0;34m]\u001b[0m\u001b[0;34m)\u001b[0m\u001b[0;34m\u001b[0m\u001b[0;34m\u001b[0m\u001b[0m\n\u001b[0m\u001b[1;32m      8\u001b[0m \u001b[0mprint\u001b[0m\u001b[0;34m(\u001b[0m\u001b[0;34m'projects done'\u001b[0m\u001b[0;34m)\u001b[0m\u001b[0;34m\u001b[0m\u001b[0;34m\u001b[0m\u001b[0m\n\u001b[1;32m      9\u001b[0m \u001b[0;34m\u001b[0m\u001b[0m\n",
      "\u001b[0;32m<ipython-input-2-4d120ac14ee2>\u001b[0m in \u001b[0;36mcreateProjects\u001b[0;34m(mnd_dataset, labels_added_mnd, user1, user2)\u001b[0m\n\u001b[1;32m     53\u001b[0m \u001b[0;34m\u001b[0m\u001b[0m\n\u001b[1;32m     54\u001b[0m     \u001b[0;31m#   Associate Labels with Project\u001b[0m\u001b[0;34m\u001b[0m\u001b[0;34m\u001b[0m\u001b[0;34m\u001b[0m\u001b[0m\n\u001b[0;32m---> 55\u001b[0;31m     \u001b[0mdb\u001b[0m\u001b[0;34m.\u001b[0m\u001b[0msession\u001b[0m\u001b[0;34m.\u001b[0m\u001b[0mexecute\u001b[0m\u001b[0;34m(\u001b[0m\u001b[0mprojectlabel_association\u001b[0m\u001b[0;34m.\u001b[0m\u001b[0minsert\u001b[0m\u001b[0;34m(\u001b[0m\u001b[0;34m)\u001b[0m\u001b[0;34m.\u001b[0m\u001b[0mvalues\u001b[0m\u001b[0;34m(\u001b[0m\u001b[0;34m[\u001b[0m\u001b[0;34m(\u001b[0m\u001b[0mproject\u001b[0m\u001b[0;34m.\u001b[0m\u001b[0mid\u001b[0m\u001b[0;34m,\u001b[0m \u001b[0mlabels_added_mnd\u001b[0m\u001b[0;34m[\u001b[0m\u001b[0;36m0\u001b[0m\u001b[0;34m]\u001b[0m\u001b[0;34m.\u001b[0m\u001b[0mid\u001b[0m\u001b[0;34m)\u001b[0m\u001b[0;34m,\u001b[0m \u001b[0;34m(\u001b[0m\u001b[0mproject\u001b[0m\u001b[0;34m.\u001b[0m\u001b[0mid\u001b[0m\u001b[0;34m,\u001b[0m \u001b[0mlabels_added_mnd\u001b[0m\u001b[0;34m[\u001b[0m\u001b[0;36m1\u001b[0m\u001b[0;34m]\u001b[0m\u001b[0;34m.\u001b[0m\u001b[0mid\u001b[0m\u001b[0;34m)\u001b[0m\u001b[0;34m]\u001b[0m\u001b[0;34m)\u001b[0m\u001b[0;34m)\u001b[0m\u001b[0;34m\u001b[0m\u001b[0;34m\u001b[0m\u001b[0m\n\u001b[0m\u001b[1;32m     56\u001b[0m \u001b[0;34m\u001b[0m\u001b[0m\n\u001b[1;32m     57\u001b[0m \u001b[0;34m\u001b[0m\u001b[0m\n",
      "\u001b[0;31mIndexError\u001b[0m: list index out of range"
     ]
    }
   ],
   "source": [
    "users = createUsers()\n",
    "print('users done')\n",
    "dataset = createDatasets()\n",
    "print('datasets done')\n",
    "labels = createLabels()\n",
    "print('labels done')\n",
    "createProjects(dataset, labels, users[0], users[1])\n",
    "print('projects done')\n",
    "\n",
    "createDocuments(dataset, texts)\n",
    "print('documents done')"
   ]
  },
  {
   "cell_type": "code",
   "execution_count": null,
   "metadata": {},
   "outputs": [],
   "source": []
  }
 ]
}